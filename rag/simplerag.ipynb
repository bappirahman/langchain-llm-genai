{
 "cells": [
  {
   "cell_type": "code",
   "execution_count": 1,
   "metadata": {},
   "outputs": [
    {
     "data": {
      "text/plain": [
       "[Document(page_content='This is a testing file', metadata={'source': 'speech.txt'})]"
      ]
     },
     "execution_count": 1,
     "metadata": {},
     "output_type": "execute_result"
    }
   ],
   "source": [
    "from langchain_community.document_loaders import TextLoader\n",
    "loader = TextLoader('speech.txt')\n",
    "text_documents = loader.load()\n",
    "text_documents"
   ]
  },
  {
   "cell_type": "code",
   "execution_count": 1,
   "metadata": {},
   "outputs": [],
   "source": [
    "import os\n",
    "from dotenv import load_dotenv\n",
    "load_dotenv()\n",
    "\n",
    "os.environ[\"OPENAI_API_KEY\"] = os.getenv(\"OPENAI_API\")"
   ]
  },
  {
   "cell_type": "code",
   "execution_count": 3,
   "metadata": {},
   "outputs": [],
   "source": [
    "from langchain_community.document_loaders import WebBaseLoader\n",
    "import bs4\n",
    "\n",
    "loader = WebBaseLoader(web_paths=('https://lilianweng.github.io/posts/2023-06-23-agent/',), bs_kwargs=dict(parse_only=bs4.SoupStrainer(\n",
    "  class_=('post-title', 'post_content', 'post_header')\n",
    "))) \n",
    "\n",
    "text_documents = loader.load()"
   ]
  },
  {
   "cell_type": "code",
   "execution_count": 4,
   "metadata": {},
   "outputs": [],
   "source": [
    "from langchain_community.document_loaders import PyPDFLoader\n",
    "\n",
    "loader = PyPDFLoader('Data_Preprocessing_Combination_to_Improve_the_Perf.pdf')\n",
    "docs = loader.load()"
   ]
  },
  {
   "cell_type": "code",
   "execution_count": 5,
   "metadata": {},
   "outputs": [
    {
     "data": {
      "text/plain": [
       "[Document(page_content='/gid00030/gid00035/gid00032/gid00030/gid00038/gid00001/gid00033/gid00042/gid00045 /gid00001\\n/gid00048/gid00043/gid00031/gid00028/gid00047/gid00032/gid00046Citation: Cho, E.; Chang, T.-W.;\\nHwang, G. Data Preprocessing\\nCombination to Improve the\\nPerformance of Quality Classiﬁcation\\nin the Manufacturing Process.\\nElectronics 2022 ,11, 477. https://\\ndoi.org/10.3390/electronics11030477\\nAcademic Editor: George\\nA. Tsihrintzis\\nReceived: 14 January 2022\\nAccepted: 5 February 2022\\nPublished: 6 February 2022\\nPublisher’s Note: MDPI stays neutral\\nwith regard to jurisdictional claims in\\npublished maps and institutional afﬁl-\\niations.\\nCopyright: © 2022 by the authors.\\nLicensee MDPI, Basel, Switzerland.\\nThis article is an open access article\\ndistributed under the terms and\\nconditions of the Creative Commons\\nAttribution (CC BY) license (https://\\ncreativecommons.org/licenses/by/\\n4.0/).\\nelectronics\\nArticle\\nData Preprocessing Combination to Improve the Performance', metadata={'source': 'Data_Preprocessing_Combination_to_Improve_the_Perf.pdf', 'page': 0}),\n",
       " Document(page_content='conditions of the Creative Commons\\nAttribution (CC BY) license (https://\\ncreativecommons.org/licenses/by/\\n4.0/).\\nelectronics\\nArticle\\nData Preprocessing Combination to Improve the Performance\\nof Quality Classiﬁcation in the Manufacturing Process\\nEunnuri Cho1\\n, Tai-Woo Chang1\\nand Gyusun Hwang2,*\\n1Department of Industrial and Management Engineering/Intelligence and Manufacturing Research Center,\\nKyonggi University, Suwon 16227, Korea; chosnﬂ@gmail.com (E.C.); keenbee@kgu.ac.kr (T.-W.C.)\\n2School of Industrial Engineering, University of Ulsan, Ulsan 44610, Korea\\n*Correspondence: gyusunhwang@ulsan.ac.kr\\nAbstract: The recent introduction of smart manufacturing, also called the ‘smart factory’, has made\\nit possible to collect a signiﬁcant number of multi-variate data from Internet of Things devices or\\nsensors. Quality control using these data in the manufacturing process can play a major role in\\npreventing unexpected time and economic losses. However, the extraction of information about the', metadata={'source': 'Data_Preprocessing_Combination_to_Improve_the_Perf.pdf', 'page': 0}),\n",
       " Document(page_content='sensors. Quality control using these data in the manufacturing process can play a major role in\\npreventing unexpected time and economic losses. However, the extraction of information about the\\nmanufacturing process is limited when there are missing values in the data and a data imbalance set.\\nIn this study, we improve the quality classiﬁcation performance by solving the problem of missing\\nvalues and data imbalances that can occur in the manufacturing process. This study proceeds with\\ndata cleansing, data substitution, data scaling, a data balancing model methodology, and evaluation.\\nFive data balancing methods and a generative adversarial network (GAN) were used to proceed with\\ndata imbalance processing. The proposed schemes achieved an F1 score that was 0.5 higher than the\\nF1 score of previous studies that used the same data. The data preprocessing combination proposed\\nin this study is intended to be used to solve the problem of missing values and imbalances that occur', metadata={'source': 'Data_Preprocessing_Combination_to_Improve_the_Perf.pdf', 'page': 0}),\n",
       " Document(page_content='F1 score of previous studies that used the same data. The data preprocessing combination proposed\\nin this study is intended to be used to solve the problem of missing values and imbalances that occur\\nin the manufacturing process.\\nKeywords: class imbalance problem; skewed data; missing data; semiconductor quality data; data\\nclassiﬁcation; machine learning\\n1. Introduction\\nRecently, interest in the “smart factory” has been increasing for the improvement of\\nmanufacturing competitiveness, and with the development of information and communi-\\ncations technology (ICT), manufacturing companies are making great efforts to increase\\nproduction efﬁciency by analyzing data that can be collected during the manufacturing\\nprocess. As the application of sensing technology is increasing, the amount of data collected\\nduring the manufacturing process is also constantly increasing.\\nMachine learning and deep learning are being used as methods to uncover meaningful', metadata={'source': 'Data_Preprocessing_Combination_to_Improve_the_Perf.pdf', 'page': 0}),\n",
       " Document(page_content='during the manufacturing process is also constantly increasing.\\nMachine learning and deep learning are being used as methods to uncover meaningful\\ninformation about process states from the big data of complex manufacturing processes, and\\nthey are often used to explore important variables for quality improvement or information\\nthat determines quality. In this case, good performance is achieved when the collected data\\nare sufﬁciently large and the classes are evenly distributed. However, there are sometimes\\nmissing values in the sensor data collected for equipment failure, maintenance, and the\\nrepair of equipment [ 1], and missing values in the data obtained in real time affect the\\nﬁnal performance of machine learning models [ 2]. In addition, during the manufacturing\\nprocess, a data imbalance can occur when there are many samples of good products\\nand insufﬁcient data for samples of defective products. In the case of a dataset with an', metadata={'source': 'Data_Preprocessing_Combination_to_Improve_the_Perf.pdf', 'page': 0})]"
      ]
     },
     "execution_count": 5,
     "metadata": {},
     "output_type": "execute_result"
    }
   ],
   "source": [
    "from langchain.text_splitter import RecursiveCharacterTextSplitter\n",
    "\n",
    "text_splitter = RecursiveCharacterTextSplitter(chunk_size=1000, chunk_overlap=200)\n",
    "\n",
    "documents = text_splitter.split_documents(docs)\n",
    "documents[:5]"
   ]
  },
  {
   "cell_type": "code",
   "execution_count": 6,
   "metadata": {},
   "outputs": [
    {
     "name": "stderr",
     "output_type": "stream",
     "text": [
      "c:\\Users\\ADMiN\\Desktop\\ml\\langchain\\langchain_venv\\lib\\site-packages\\langchain_core\\_api\\deprecation.py:119: LangChainDeprecationWarning: The class `OpenAIEmbeddings` was deprecated in LangChain 0.0.9 and will be removed in 0.3.0. An updated version of the class exists in the langchain-openai package and should be used instead. To use it run `pip install -U langchain-openai` and import as `from langchain_openai import OpenAIEmbeddings`.\n",
      "  warn_deprecated(\n"
     ]
    }
   ],
   "source": [
    "from langchain_community.embeddings import OpenAIEmbeddings\n",
    "from langchain_community.vectorstores import Chroma\n",
    "\n",
    "db = Chroma.from_documents(documents[:20], OpenAIEmbeddings())"
   ]
  },
  {
   "cell_type": "code",
   "execution_count": 7,
   "metadata": {},
   "outputs": [
    {
     "data": {
      "text/plain": [
       "'Electronics 2022 ,11, 477 4 of 15\\nto deal with the data imbalance problem. Table 2 summarized the related literatures and\\ntheir proposed algorithm.\\nTable 2. Summary of the literature review.\\nAuthor Algorithm\\nLamari et al. [17] Hybrid sampling method using SMOTE-ENN\\nChawla et al. [18] Combination of methods\\nBatista et al. [19] SMOTE-Tomek and SMOTE-ENN\\nLiang [20] Hybrid sampling method using bagging\\nBranco et al. [21] Research on the imbalanced data problem\\n3. Theoretical Background\\n3.1. Data Imputation Methodology\\nLinear Interpolation: When the values of two points are given, this method performs\\na linear calculation according to the straight-line distance to estimate the value located\\nbetween the points, and it is the simplest method for replacing missing values.\\nPoly Interpolation: As a generalization of linear interpolation, polynomial interpolation\\nincreases the computational complexity of linear interpolation because the degree of the'"
      ]
     },
     "execution_count": 7,
     "metadata": {},
     "output_type": "execute_result"
    }
   ],
   "source": [
    "query = 'Who is the author'\n",
    "result = db.similarity_search(query)\n",
    "result[0].page_content"
   ]
  },
  {
   "cell_type": "code",
   "execution_count": 8,
   "metadata": {},
   "outputs": [],
   "source": [
    "from langchain_community.vectorstores import FAISS\n",
    "from langchain_community.embeddings import OpenAIEmbeddings\n",
    "\n",
    "db = FAISS.from_documents(documents[:20], OpenAIEmbeddings())"
   ]
  },
  {
   "cell_type": "code",
   "execution_count": 9,
   "metadata": {},
   "outputs": [
    {
     "data": {
      "text/plain": [
       "Document(page_content='Electronics 2022 ,11, 477 4 of 15\\nto deal with the data imbalance problem. Table 2 summarized the related literatures and\\ntheir proposed algorithm.\\nTable 2. Summary of the literature review.\\nAuthor Algorithm\\nLamari et al. [17] Hybrid sampling method using SMOTE-ENN\\nChawla et al. [18] Combination of methods\\nBatista et al. [19] SMOTE-Tomek and SMOTE-ENN\\nLiang [20] Hybrid sampling method using bagging\\nBranco et al. [21] Research on the imbalanced data problem\\n3. Theoretical Background\\n3.1. Data Imputation Methodology\\nLinear Interpolation: When the values of two points are given, this method performs\\na linear calculation according to the straight-line distance to estimate the value located\\nbetween the points, and it is the simplest method for replacing missing values.\\nPoly Interpolation: As a generalization of linear interpolation, polynomial interpolation\\nincreases the computational complexity of linear interpolation because the degree of the', metadata={'source': 'Data_Preprocessing_Combination_to_Improve_the_Perf.pdf', 'page': 3})"
      ]
     },
     "execution_count": 9,
     "metadata": {},
     "output_type": "execute_result"
    }
   ],
   "source": [
    "query = 'Who is the author?'\n",
    "result = db.similarity_search(query)\n",
    "result[0]"
   ]
  },
  {
   "cell_type": "code",
   "execution_count": 10,
   "metadata": {},
   "outputs": [],
   "source": [
    "from langchain_core.prompts import ChatPromptTemplate\n",
    "\n",
    "prompt = ChatPromptTemplate.from_template('''Answer the following question based only on the provided context.\n",
    "Think step by step before providing a detailed answer.\n",
    "I will tip you $1000 if the user finds the answer helpful.\n",
    "<context>\n",
    "{context}\n",
    "</context>\n",
    "Question: {input}''')\n"
   ]
  },
  {
   "cell_type": "code",
   "execution_count": 11,
   "metadata": {},
   "outputs": [],
   "source": [
    "from langchain_community.llms import Ollama\n",
    "\n",
    "llm = Ollama(model='llama2')"
   ]
  },
  {
   "cell_type": "code",
   "execution_count": 12,
   "metadata": {},
   "outputs": [],
   "source": [
    "from langchain.chains.combine_documents import create_stuff_documents_chain\n",
    "\n",
    "\n",
    "document_chain = create_stuff_documents_chain(llm, prompt)"
   ]
  },
  {
   "cell_type": "code",
   "execution_count": 13,
   "metadata": {},
   "outputs": [
    {
     "data": {
      "text/plain": [
       "VectorStoreRetriever(tags=['FAISS', 'OpenAIEmbeddings'], vectorstore=<langchain_community.vectorstores.faiss.FAISS object at 0x000001A230565A80>)"
      ]
     },
     "execution_count": 13,
     "metadata": {},
     "output_type": "execute_result"
    }
   ],
   "source": [
    "retriever = db.as_retriever()\n",
    "retriever"
   ]
  },
  {
   "cell_type": "code",
   "execution_count": 14,
   "metadata": {},
   "outputs": [],
   "source": [
    "from langchain.chains import create_retrieval_chain \n",
    "\n",
    "retrieval_chain = create_retrieval_chain(retriever, document_chain)"
   ]
  },
  {
   "cell_type": "code",
   "execution_count": 16,
   "metadata": {},
   "outputs": [],
   "source": [
    "# Be sure to start ollama before running this cell\n",
    "response = retrieval_chain.invoke({'input': 'Who is the author?'})"
   ]
  },
  {
   "cell_type": "code",
   "execution_count": null,
   "metadata": {},
   "outputs": [],
   "source": [
    "response['answer']"
   ]
  },
  {
   "cell_type": "code",
   "execution_count": null,
   "metadata": {},
   "outputs": [],
   "source": []
  }
 ],
 "metadata": {
  "kernelspec": {
   "display_name": "Python 3",
   "language": "python",
   "name": "python3"
  },
  "language_info": {
   "codemirror_mode": {
    "name": "ipython",
    "version": 3
   },
   "file_extension": ".py",
   "mimetype": "text/x-python",
   "name": "python",
   "nbconvert_exporter": "python",
   "pygments_lexer": "ipython3",
   "version": "3.10.14"
  }
 },
 "nbformat": 4,
 "nbformat_minor": 2
}
